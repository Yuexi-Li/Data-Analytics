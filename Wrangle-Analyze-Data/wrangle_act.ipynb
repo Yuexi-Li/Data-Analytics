{
 "cells": [
  {
   "cell_type": "markdown",
   "metadata": {},
   "source": [
    "## Wrangling details \n",
    "### Gathering Data for this Project\n",
    "Gather each of the three pieces of data as described below in a Jupyter Notebook titled wrangle_act.ipynb:\n",
    "\n",
    "1. The WeRateDogs Twitter archive. I am giving this file to you, so imagine it as a file on hand. Download this file manually by clicking the following link: twitter_archive_enhanced.csv\n",
    "\n",
    "2. The tweet image predictions, i.e., what breed of dog (or other object, animal, etc.) is present in each tweet according to a neural network. This file (image_predictions.tsv) is hosted on Udacity's servers and should be downloaded programmatically using the Requests library and the following URL: https://d17h27t6h515a5.cloudfront.net/topher/2017/August/599fd2ad_image-predictions/image-predictions.tsv\n",
    "\n",
    "3. Each tweet's retweet count and favorite (\"like\") count at minimum, and any additional data you find interesting. Using the tweet IDs in the WeRateDogs Twitter archive, query the Twitter API for each tweet's JSON data using Python's Tweepy library and store each tweet's entire set of JSON data in a file called tweet_json.txt file. Each tweet's JSON data should be written to its own line. Then read this .txt file line by line into a pandas DataFrame with (at minimum) tweet ID, retweet count, and favorite count. Note: do not include your Twitter API keys, secrets, and tokens in your project submission.\n",
    "\n",
    "\n",
    "### Assessing Data for this Project\n",
    "After gathering each of the above pieces of data, assess them visually and programmatically for quality and tidiness issues. Detect and document at least eight (8) quality issues and two (2) tidiness issues in your wrangle_act.ipynb Jupyter Notebook. To meet specifications, the issues that satisfy the Project Motivation (see the Key Points header on the previous page) must be assessed.\n",
    "\n",
    "### Cleaning Data for this Project\n",
    "Clean each of the issues you documented while assessing. Perform this cleaning in wrangle_act.ipynb as well. The result should be a high quality and tidy master pandas DataFrame (or DataFrames, if appropriate). Again, the issues that satisfy the Project Motivation must be cleaned.\n",
    "\n",
    "## Other\n",
    "Storing, Analyzing, and Visualizing Data for this Project\n",
    "### Store \n",
    "the clean DataFrame(s) in a CSV file with the main one named twitter_archive_master.csv. If additional files exist because multiple tables are required for tidiness, name these files appropriately. Additionally, you may store the cleaned data in a SQLite database (which is to be submitted as well if you do).\n",
    "\n",
    "### Analyze\n",
    "and visualize your wrangled data in your wrangle_act.ipynb Jupyter Notebook. At least three (3) insights and one (1) visualization must be produced.\n",
    "\n",
    "### Reporting\n",
    "for this Project\n",
    "Create a 300-600 word written report called wrangle_report.pdf or wrangle_report.html that briefly describes your wrangling efforts. This is to be framed as an internal document.\n",
    "\n",
    "Create a 250-word-minimum written report called act_report.pdf or act_report.html that communicates the insights and displays the visualization(s) produced from your wrangled data. This is to be framed as an external document, like a blog post or magazine article, for example.\n",
    "\n",
    "Both of these documents can be created in separate Jupyter Notebooks using the Markdown functionality of Jupyter Notebooks, then downloading those notebooks as PDF files or HTML files (see image below). You might prefer to use a word processor like Google Docs or Microsoft Word, however.\n",
    "********"
   ]
  },
  {
   "cell_type": "markdown",
   "metadata": {},
   "source": [
    "# Wrangle and Analyze Data\n",
    "\n",
    "## Table of Contents\n",
    "<ul>\n",
    "<li><a href=\"#Intro\"> Part I: Introduction</a></li>\n",
    " <ul>   <li><a href=\"#libraries\"> 1. Frameworks and Libraries</a></li>\n",
    "    <li><a href=\"#Datasource\">2. Data Sources</a></li>\n",
    " </ul>\n",
    "<li><a href=\"#T2\">Part II: Data Wrangling</a></li>\n",
    "<ul><li><a href=\"#T2_1\">1. Data Gathering</a></li>\n",
    "    <li><a href=\"#T2_2\">2. Data Assessing</a></li>\n",
    "    <li><a href=\"#T2_3\">3. Data Cleaning</a></li>\n",
    "</ul>\n",
    "<li><a href=\"#Summary\">Part III:Summary</a></li>\n",
    "<ul><li><a href=\"#Visuals\">1. Visualizations</a></li>\n",
    "    <li><a href=\"#Conclusions\">2. Conclusions</a></li>\n",
    "</ul>\n",
    "</ul>\n",
    "\n",
    "<a id='Intro'></a>\n",
    "## Part I: Introduction\n",
    "\n",
    "<a id='libraries'></a>\n",
    "### 1. Frameworks and Libraries\n",
    "\n",
    "<a id='Datasource'></a>\n",
    "### 2. Data Sources\n",
    "\n",
    "**** "
   ]
  },
  {
   "cell_type": "markdown",
   "metadata": {},
   "source": [
    "<a id='T2'></a>\n",
    "## Part II: Data Wrangling\n",
    "\n",
    "<a id='T2_1'></a>\n",
    "### 1. Data Gathering\n",
    "\n",
    "<a id='T2_2'></a>\n",
    "### 2. Data Assessing\n",
    "\n",
    "**** "
   ]
  },
  {
   "cell_type": "markdown",
   "metadata": {},
   "source": [
    "\n",
    "<a id='T2_3'></a>\n",
    "### 3. Data Cleaning\n",
    "\n",
    "<a id='Summary'></a>\n",
    "## Part III: Summary\n",
    "\n",
    "<a id='Visuals'></a>\n",
    "### 1. Visualizations\n",
    "\n",
    "<a id='Conclusions'></a>\n",
    "### 2. Conclusions\n",
    "\n",
    "\n",
    "**** "
   ]
  }
 ],
 "metadata": {
  "kernelspec": {
   "display_name": "Python 3",
   "language": "python",
   "name": "python3"
  },
  "language_info": {
   "codemirror_mode": {
    "name": "ipython",
    "version": 3
   },
   "file_extension": ".py",
   "mimetype": "text/x-python",
   "name": "python",
   "nbconvert_exporter": "python",
   "pygments_lexer": "ipython3",
   "version": "3.6.3"
  }
 },
 "nbformat": 4,
 "nbformat_minor": 2
}
